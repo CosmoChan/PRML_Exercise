{
 "cells": [
  {
   "cell_type": "code",
   "execution_count": 1,
   "metadata": {
    "collapsed": false
   },
   "outputs": [],
   "source": [
    "from mnist_FDA import  mnist_FDA"
   ]
  },
  {
   "cell_type": "code",
   "execution_count": 2,
   "metadata": {
    "collapsed": false
   },
   "outputs": [],
   "source": [
    "X = []\n",
    "Y = []\n",
    "for y_1 in xrange(10):\n",
    "    for y_2 in xrange(y_1+1,10):\n",
    "        X.append(y_1)\n",
    "        Y.append(y_2)"
   ]
  },
  {
   "cell_type": "code",
   "execution_count": 3,
   "metadata": {
    "collapsed": true
   },
   "outputs": [],
   "source": [
    "error_rate = [0.13617021276595745,\n",
    " 0.010934393638170975,\n",
    " 0.0090452261306532659,\n",
    " 0.0076452599388379203,\n",
    " 0.10202991452991453,\n",
    " 0.008771929824561403,\n",
    " 0.028386454183266931,\n",
    " 0.37256908904810643,\n",
    " 0.010055304172951232,\n",
    " 0.025380710659898477,\n",
    " 0.089044289044289043,\n",
    " 0.020311761927255551,\n",
    " 0.41193882585101133,\n",
    " 0.006688963210702341,\n",
    " 0.043458159963014331,\n",
    " 0.071597913703176863,\n",
    " 0.015858208955223881,\n",
    " 0.30362389813907931,\n",
    " 0.018371400198609732,\n",
    " 0.145010395010395,\n",
    " 0.075376884422110546,\n",
    " 0.023300970873786409,\n",
    " 0.50249252243270193,\n",
    " 0.025477707006369428,\n",
    " 0.0040160642570281121,\n",
    " 0.45005257623554151,\n",
    " 0.0045731707317073168,\n",
    " 0.22276741903827282,\n",
    " 0.46975806451612906,\n",
    " 0.025260029717682021,\n",
    " 0.29775880469583776,\n",
    " 0.24278350515463917,\n",
    " 0.061691542288557215,\n",
    " 0.10378323108384459,\n",
    " 0.45705675539929685,\n",
    " 0.43891891891891893,\n",
    " 0.0098958333333333329,\n",
    " 0.47695605573419081,\n",
    " 0.21883219358232509,\n",
    " 0.036253776435045321,\n",
    " 0.024844720496894408,\n",
    " 0.0086426029486527702,\n",
    " 0.50999000999000998,\n",
    " 0.39911634756995584,\n",
    " 0.36308623298033282]"
   ]
  },
  {
   "cell_type": "code",
   "execution_count": 4,
   "metadata": {
    "collapsed": true
   },
   "outputs": [],
   "source": [
    "import matplotlib.pyplot as plt\n",
    "from mpl_toolkits.mplot3d import Axes3D"
   ]
  },
  {
   "cell_type": "code",
   "execution_count": null,
   "metadata": {
    "collapsed": false
   },
   "outputs": [],
   "source": [
    "fig = plt.figure()\n",
    "ax = fig.add_subplot(111, projection='3d')\n",
    "ax.scatter(X, Y, error_rate, 'ro')\n",
    "plt.show()"
   ]
  },
  {
   "cell_type": "code",
   "execution_count": null,
   "metadata": {
    "collapsed": true
   },
   "outputs": [],
   "source": []
  }
 ],
 "metadata": {
  "kernelspec": {
   "display_name": "Python [Root]",
   "language": "python",
   "name": "Python [Root]"
  },
  "language_info": {
   "codemirror_mode": {
    "name": "ipython",
    "version": 2
   },
   "file_extension": ".py",
   "mimetype": "text/x-python",
   "name": "python",
   "nbconvert_exporter": "python",
   "pygments_lexer": "ipython2",
   "version": "2.7.12"
  }
 },
 "nbformat": 4,
 "nbformat_minor": 0
}
